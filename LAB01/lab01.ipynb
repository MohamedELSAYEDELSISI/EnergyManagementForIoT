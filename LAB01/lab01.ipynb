{
 "cells": [
  {
   "cell_type": "code",
   "execution_count": 27,
   "metadata": {},
   "outputs": [
    {
     "name": "stdout",
     "output_type": "stream",
     "text": [
      "[32, 5, 5, 4, 4, 235, 3, 2, 3, 3, 3, 2, 2, 3, 3, 3, 255, 4, 5, 4, 4, 4, 5, 5, 4, 5, 4, 181, 1, 3, 3, 2, 2, 0, 0, 4, 5, 4, 328, 1, 2, 3, 1, 4, 4, 5, 4, 4, 5, 318, 2, 4, 5, 5, 5, 4, 3, 5, 4, 5, 293, 3, 2, 0, 0, 4, 5, 4, 5, 5, 5, 319, 1, 1, 2, 3, 3, 3, 3, 3, 3, 4, 325, 2, 1, 1, 0, 2, 2, 2, 2, 2, 5, 327, 4, 5, 4, 4, 5, 5, 4, 5, 5, 4]\n",
      "[3, 3, 4, 4, 4, 119970, 0, 1, 0, 0, 1, 1, 0, 0, 1, 3, 120012, 3, 4, 4, 4, 3, 3, 3, 4, 4, 3, 119993, 0, 0, 0, 1, 1, 3, 2, 3, 4, 4, 119910, 1, 0, 0, 2, 4, 4, 4, 3, 4, 4, 119901, 3, 4, 3, 3, 4, 4, 4, 3, 4, 3, 119893, 0, 1, 3, 2, 4, 4, 4, 3, 3, 4, 119876, 1, 1, 0, 0, 0, 0, 0, 0, 0, 4, 119917, 1, 2, 2, 1, 1, 1, 1, 1, 3, 3, 119957, 4, 4, 4, 4, 3, 4, 4, 3, 4]\n",
      "The minimum inactive duration is:  0\n",
      "The maximum inactive duration is:  120012\n",
      "Percentage of OFF state:  82.52427184466019\n"
     ]
    }
   ],
   "source": [
    "# Plot Waveform\n",
    "import matplotlib.pyplot as plt\n",
    "from scipy.stats import norm\n",
    "import statistics\n",
    "\n",
    "wl1_arrivals = []   # Array to store the arrival times of the requests in workload 1\n",
    "wl1_durations = []  # Array to store the duration of each requests in workload 1\n",
    "\n",
    "with open('workloads/workload_1.txt', 'r') as file:\n",
    "    for line in file:\n",
    "        (wl1_arrival, wl1_duration) = line.split()\n",
    "        wl1_arrivals.append(int(wl1_arrival))\n",
    "        wl1_durations.append(int(wl1_duration))\n",
    "       \n",
    "# Generate Machine Status\n",
    "\n",
    "# Initialize the status list\n",
    "status = []\n",
    "active_durations = []\n",
    "inactive_durations = []\n",
    "\n",
    "\n",
    "# Determine the status of the machine at each timestamp\n",
    "for i in range(len(wl1_arrivals)):\n",
    "    if i == 0:\n",
    "        # The machine is active from the first arrival time to the end of its duration\n",
    "        active_durations.append((wl1_arrivals[i] + wl1_durations[i]))\n",
    "        inactive_durations.append(wl1_arrivals[i + 1] - wl1_durations[i])\n",
    "    else:\n",
    "        # The machine is inactive from the end of the previous duration to the next arrival time\n",
    "        active_period = wl1_arrivals[i] + wl1_durations[i]\n",
    "        active_durations.append(active_period)\n",
    "        if i != len(wl1_arrivals) - 1:\n",
    "            inactive_durations.append(wl1_arrivals[i+1] - active_period)\n",
    "\n",
    "print (wl1_durations)\n",
    "print (inactive_durations)\n",
    "print(\"The minimum inactive duration is: \", min(inactive_durations))\n",
    "print(\"The maximum inactive duration is: \", max(inactive_durations))\n",
    "\n",
    "\n",
    "# The break even time is 0.8ms \n",
    "# Show in which cases it is convenient to switch off the machine, when the inactive duration is higher than the break even time\n",
    "for i in range(len(inactive_durations)):\n",
    "    if inactive_durations[i] > 0.8:\n",
    "        status.append('OFF')\n",
    "    else:\n",
    "        status.append('ON')\n",
    "\n",
    "# Compute the percentage of OFF state over the total entries\n",
    "off_state = status.count('OFF')\n",
    "print('Percentage of OFF state: ', off_state/len(status)*100)\n",
    "\n",
    "\n"
   ]
  },
  {
   "cell_type": "code",
   "execution_count": 25,
   "metadata": {},
   "outputs": [
    {
     "name": "stdout",
     "output_type": "stream",
     "text": [
      "[(0, 'ACTIVE'), (32, 'INACTIVE'), (35, 'ACTIVE'), (40, 'INACTIVE'), (43, 'ACTIVE'), (48, 'INACTIVE'), (52, 'ACTIVE'), (56, 'INACTIVE'), (60, 'ACTIVE'), (64, 'INACTIVE'), (68, 'ACTIVE'), (303, 'INACTIVE'), (120273, 'ACTIVE'), (120276, 'INACTIVE'), (120276, 'ACTIVE'), (120278, 'INACTIVE'), (120279, 'ACTIVE'), (120282, 'INACTIVE'), (120282, 'ACTIVE'), (120285, 'INACTIVE'), (120285, 'ACTIVE'), (120288, 'INACTIVE'), (120289, 'ACTIVE'), (120291, 'INACTIVE'), (120292, 'ACTIVE'), (120294, 'INACTIVE'), (120294, 'ACTIVE'), (120297, 'INACTIVE'), (120297, 'ACTIVE'), (120300, 'INACTIVE'), (120301, 'ACTIVE'), (120304, 'INACTIVE'), (120307, 'ACTIVE'), (120562, 'INACTIVE'), (240574, 'ACTIVE'), (240578, 'INACTIVE'), (240581, 'ACTIVE'), (240586, 'INACTIVE'), (240590, 'ACTIVE'), (240594, 'INACTIVE'), (240598, 'ACTIVE'), (240602, 'INACTIVE'), (240606, 'ACTIVE'), (240610, 'INACTIVE'), (240613, 'ACTIVE'), (240618, 'INACTIVE'), (240621, 'ACTIVE'), (240626, 'INACTIVE'), (240629, 'ACTIVE'), (240633, 'INACTIVE'), (240637, 'ACTIVE'), (240642, 'INACTIVE'), (240646, 'ACTIVE'), (240650, 'INACTIVE'), (240653, 'ACTIVE'), (240834, 'INACTIVE'), (360827, 'ACTIVE'), (360828, 'INACTIVE'), (360828, 'ACTIVE'), (360831, 'INACTIVE'), (360831, 'ACTIVE'), (360834, 'INACTIVE'), (360834, 'ACTIVE'), (360836, 'INACTIVE'), (360837, 'ACTIVE'), (360839, 'INACTIVE'), (360840, 'ACTIVE'), (360840, 'INACTIVE'), (360843, 'ACTIVE'), (360843, 'INACTIVE'), (360845, 'ACTIVE'), (360849, 'INACTIVE'), (360852, 'ACTIVE'), (360857, 'INACTIVE'), (360861, 'ACTIVE'), (360865, 'INACTIVE'), (360869, 'ACTIVE'), (361197, 'INACTIVE'), (481107, 'ACTIVE'), (481108, 'INACTIVE'), (481109, 'ACTIVE'), (481111, 'INACTIVE'), (481111, 'ACTIVE'), (481114, 'INACTIVE'), (481114, 'ACTIVE'), (481115, 'INACTIVE'), (481117, 'ACTIVE'), (481121, 'INACTIVE'), (481125, 'ACTIVE'), (481129, 'INACTIVE'), (481133, 'ACTIVE'), (481138, 'INACTIVE'), (481142, 'ACTIVE'), (481146, 'INACTIVE'), (481149, 'ACTIVE'), (481153, 'INACTIVE'), (481157, 'ACTIVE'), (481162, 'INACTIVE'), (481166, 'ACTIVE'), (481484, 'INACTIVE'), (601385, 'ACTIVE'), (601387, 'INACTIVE'), (601390, 'ACTIVE'), (601394, 'INACTIVE'), (601398, 'ACTIVE'), (601403, 'INACTIVE'), (601406, 'ACTIVE'), (601411, 'INACTIVE'), (601414, 'ACTIVE'), (601419, 'INACTIVE'), (601423, 'ACTIVE'), (601427, 'INACTIVE'), (601431, 'ACTIVE'), (601434, 'INACTIVE'), (601438, 'ACTIVE'), (601443, 'INACTIVE'), (601446, 'ACTIVE'), (601450, 'INACTIVE'), (601454, 'ACTIVE'), (601459, 'INACTIVE'), (601462, 'ACTIVE'), (601755, 'INACTIVE'), (721648, 'ACTIVE'), (721651, 'INACTIVE'), (721651, 'ACTIVE'), (721653, 'INACTIVE'), (721654, 'ACTIVE'), (721654, 'INACTIVE'), (721657, 'ACTIVE'), (721657, 'INACTIVE'), (721659, 'ACTIVE'), (721663, 'INACTIVE'), (721667, 'ACTIVE'), (721672, 'INACTIVE'), (721676, 'ACTIVE'), (721680, 'INACTIVE'), (721684, 'ACTIVE'), (721689, 'INACTIVE'), (721692, 'ACTIVE'), (721697, 'INACTIVE'), (721700, 'ACTIVE'), (721705, 'INACTIVE'), (721709, 'ACTIVE'), (722028, 'INACTIVE'), (841904, 'ACTIVE'), (841905, 'INACTIVE'), (841906, 'ACTIVE'), (841907, 'INACTIVE'), (841908, 'ACTIVE'), (841910, 'INACTIVE'), (841910, 'ACTIVE'), (841913, 'INACTIVE'), (841913, 'ACTIVE'), (841916, 'INACTIVE'), (841916, 'ACTIVE'), (841919, 'INACTIVE'), (841919, 'ACTIVE'), (841922, 'INACTIVE'), (841922, 'ACTIVE'), (841925, 'INACTIVE'), (841925, 'ACTIVE'), (841928, 'INACTIVE'), (841928, 'ACTIVE'), (841932, 'INACTIVE'), (841936, 'ACTIVE'), (842261, 'INACTIVE'), (962178, 'ACTIVE'), (962180, 'INACTIVE'), (962181, 'ACTIVE'), (962182, 'INACTIVE'), (962184, 'ACTIVE'), (962185, 'INACTIVE'), (962187, 'ACTIVE'), (962187, 'INACTIVE'), (962188, 'ACTIVE'), (962190, 'INACTIVE'), (962191, 'ACTIVE'), (962193, 'INACTIVE'), (962194, 'ACTIVE'), (962196, 'INACTIVE'), (962197, 'ACTIVE'), (962199, 'INACTIVE'), (962200, 'ACTIVE'), (962202, 'INACTIVE'), (962205, 'ACTIVE'), (962210, 'INACTIVE'), (962213, 'ACTIVE'), (962540, 'INACTIVE'), (1082497, 'ACTIVE'), (1082501, 'INACTIVE'), (1082505, 'ACTIVE'), (1082510, 'INACTIVE'), (1082514, 'ACTIVE'), (1082518, 'INACTIVE'), (1082522, 'ACTIVE'), (1082526, 'INACTIVE'), (1082530, 'ACTIVE'), (1082535, 'INACTIVE'), (1082538, 'ACTIVE'), (1082543, 'INACTIVE'), (1082547, 'ACTIVE'), (1082551, 'INACTIVE'), (1082555, 'ACTIVE'), (1082560, 'INACTIVE'), (1082563, 'ACTIVE'), (1082568, 'INACTIVE'), (1082572, 'ACTIVE'), (1082576, 'INACTIVE')]\n"
     ]
    },
    {
     "data": {
      "image/png": "[encoded data removed]",
      "text/plain": [
       "<Figure size 640x480 with 1 Axes>"
      ]
     },
     "metadata": {},
     "output_type": "display_data"
    }
   ],
   "source": [
    "# Plot Waveform\n",
    "import matplotlib.pyplot as plt\n",
    "\n",
    "\n",
    "wl1_arrivals = []   # Array to store the arrival times of the requests in workload 1\n",
    "wl1_durations = []  # Array to store the duration of each requests in workload 1\n",
    "\n",
    "\n",
    "\n",
    "with open('workloads/workload_1.txt', 'r') as file:\n",
    "    for line in file:\n",
    "        (wl1_arrival, wl1_duration) = line.split()\n",
    "        wl1_arrivals.append(int(wl1_arrival))\n",
    "        wl1_durations.append(int(wl1_duration))\n",
    "       \n",
    "# Generate Machine Status\n",
    "\n",
    "# Initialize the status list\n",
    "status = []\n",
    "\n",
    "# Determine the status of the machine at each timestamp\n",
    "for i in range(len(wl1_arrivals)):\n",
    "    if i == 0:\n",
    "        # The machine is active from the first arrival time to the end of its duration\n",
    "        status.append((wl1_arrivals[i], \"ACTIVE\"))\n",
    "        status.append((wl1_arrivals[i] + wl1_durations[i], \"INACTIVE\"))\n",
    "    else:\n",
    "        # The machine is inactive from the end of the previous duration to the next arrival time\n",
    "        status.append((wl1_arrivals[i], \"ACTIVE\"))\n",
    "        status.append((wl1_arrivals[i] + wl1_durations[i], \"INACTIVE\"))\n",
    "\n",
    "# Print the status list\n",
    "print(status)\n",
    "\n",
    "# Plot the waveform\n",
    "timestamps = [time for time, state in status]\n",
    "states = [1 if state == \"ACTIVE\" else 0 for time, state in status]\n",
    "\n",
    "plt.step(timestamps, states, where='post')\n",
    "plt.xlim(0, 500)  # Adjust the x-axis limits to zoom in\n",
    "plt.xlabel('Time')\n",
    "plt.ylabel('Status')\n",
    "plt.title('Machine Status Over Time')\n",
    "plt.yticks([0, 1], ['INACTIVE', 'ACTIVE'])\n",
    "plt.grid(True)\n",
    "plt.show()\n",
    "\n"
   ]
  }
 ],
 "metadata": {
  "kernelspec": {
   "display_name": "env",
   "language": "python",
   "name": "python3"
  },
  "language_info": {
   "codemirror_mode": {
    "name": "ipython",
    "version": 3
   },
   "file_extension": ".py",
   "mimetype": "text/x-python",
   "name": "python",
   "nbconvert_exporter": "python",
   "pygments_lexer": "ipython3",
   "version": "3.9.13"
  }
 },
 "nbformat": 4,
 "nbformat_minor": 2
}
