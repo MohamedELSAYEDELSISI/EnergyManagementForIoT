{
 "cells": [
  {
   "cell_type": "markdown",
   "metadata": {},
   "source": [
    "# Image Manipulations and Image Spaces"
   ]
  },
  {
   "cell_type": "code",
   "execution_count": 1,
   "metadata": {},
   "outputs": [],
   "source": [
    "import numpy as np\n",
    "from PIL import Image"
   ]
  },
  {
   "cell_type": "code",
   "execution_count": 2,
   "metadata": {},
   "outputs": [],
   "source": [
    "# Read an image\n",
    "image = Image.open(\"4.1.06.tiff\")\n",
    "\n",
    "# Show the image\n",
    "image.show()"
   ]
  },
  {
   "cell_type": "code",
   "execution_count": 3,
   "metadata": {},
   "outputs": [
    {
     "name": "stdout",
     "output_type": "stream",
     "text": [
      "Shape: (256, 256, 3)\n",
      "Red channel:\n",
      "[[233 202 205 ... 233 235 239]\n",
      " [230 203 206 ... 232 234 235]\n",
      " [230 200 200 ... 232 233 235]\n",
      " ...\n",
      " [ 48  81  84 ...  75  68  84]\n",
      " [ 64 155 115 ...  81  83  85]\n",
      " [  0   0   0 ...   0   0   0]]\n",
      "Green channel:\n",
      "[[  0 217 218 ... 229 229 229]\n",
      " [217 217 217 ... 227 227 229]\n",
      " [217 217 216 ... 228 228 229]\n",
      " ...\n",
      " [ 43  58  43 ...  40  34  40]\n",
      " [ 58 155  99 ...  51  45  55]\n",
      " [  0   0   0 ...   0   0   0]]\n",
      "Blue channel:\n",
      "[[246 221 220 ... 227 227 226]\n",
      " [237 221 220 ... 227 225 228]\n",
      " [236 221 220 ... 227 227 226]\n",
      " ...\n",
      " [ 97  70  76 ...  72  72  81]\n",
      " [ 94 135  89 ...  84  74  80]\n",
      " [  0   0   0 ...   0   0   0]]\n"
     ]
    }
   ],
   "source": [
    "# Transform the image to numpy array to manipulate it\n",
    "image_array = np.array(image)\n",
    "\n",
    "# Inspect the image array\n",
    "print(f\"Shape: {image_array.shape}\")\n",
    "print(f\"Red channel:\\n{image_array[:, :, 0]}\")\n",
    "print(f\"Green channel:\\n{image_array[:, :, 1]}\")\n",
    "print(f\"Blue channel:\\n{image_array[:, :, 2]}\")"
   ]
  },
  {
   "cell_type": "code",
   "execution_count": 4,
   "metadata": {},
   "outputs": [],
   "source": [
    "# Manipulation example: make the image darker\n",
    "image_array_v1 = (image_array * 0.6).astype(np.uint8)\n",
    "image_v1 = Image.fromarray(image_array_v1)\n",
    "image_v1.show()"
   ]
  },
  {
   "cell_type": "code",
   "execution_count": 5,
   "metadata": {},
   "outputs": [],
   "source": [
    "# Manipulation example: manipulate the red channel\n",
    "image_array_v2 = image_array[:, :, 0]\n",
    "image_v2 = Image.fromarray(image_array_v2)\n",
    "image_v2.show()\n",
    "# Why is it grey?\n",
    "# Because if only one channel is used, the image is considered to be greyscale.\n",
    "\n",
    "# Manipulation example: set explicitly green and blue channels to 0\n",
    "image_array_v2 = image_array.copy()\n",
    "image_array_v2[:, :, 1] = 0  # Set green channel to 0\n",
    "image_array_v2[:, :, 2] = 0  # Set blue channel to 0\n",
    "image_v2 = Image.fromarray(image_array_v2)\n",
    "image_v2.show() # The image has now only the red channel"
   ]
  },
  {
   "cell_type": "code",
   "execution_count": null,
   "metadata": {},
   "outputs": [],
   "source": []
  },
  {
   "cell_type": "code",
   "execution_count": 6,
   "metadata": {},
   "outputs": [
    {
     "name": "stdout",
     "output_type": "stream",
     "text": [
      "Shape: (256, 256, 3)\n",
      "L channel:\n",
      "[[56.06815251 85.70649804 86.15053474 ... 91.19291207 91.34603556\n",
      "  91.63142667]\n",
      " [88.23904411 85.77686739 85.96353513 ... 90.61551135 90.71930243\n",
      "  91.37102671]\n",
      " [88.21113414 85.56683406 85.28000986 ... 90.86603634 90.94247013\n",
      "  91.3211776 ]\n",
      " ...\n",
      " [20.90022822 27.34665366 24.11179235 ... 21.87751504 19.39562593\n",
      "  23.66076759]\n",
      " [26.51742594 63.4755503  43.19728362 ... 26.03168062 24.35542298\n",
      "  27.4164282 ]\n",
      " [ 0.          0.          0.         ...  0.          0.\n",
      "   0.        ]]\n",
      "a channel:\n",
      "[[93.62288486 -4.2523033  -3.9780591  ...  0.99443885  1.67341931\n",
      "   2.86650061]\n",
      " [ 8.01890711 -3.92501161 -3.12997968 ...  1.68553016  2.01711271\n",
      "   1.8468912 ]\n",
      " [ 7.83365831 -4.90474217 -4.5822508  ...  1.17023227  1.50912564\n",
      "   1.50066387]\n",
      " ...\n",
      " [18.27126423 12.37713207 24.22905097 ... 21.93389944 23.14911905\n",
      "  27.02166832]\n",
      " [11.83917891 -3.61124745  4.6495671  ... 19.85473825 22.23999884\n",
      "  17.95949597]\n",
      " [ 0.          0.          0.         ...  0.          0.\n",
      "   0.        ]]\n",
      "b channel:\n",
      "[[-62.84649337  -3.68898207  -2.48309459 ...   1.4537591    1.69534212\n",
      "    2.67083931]\n",
      " [ -8.16384465  -3.57737866  -2.74928797 ...   0.60306688   1.81994841\n",
      "    1.20911304]\n",
      " [ -7.67816273  -3.91052112  -3.8030301  ...   0.96832171   1.08897727\n",
      "    2.18178187]\n",
      " ...\n",
      " [-31.47314111  -3.36225822 -12.19001858 ... -13.04619018 -16.97859877\n",
      "  -16.22628964]\n",
      " [-20.51360735  10.5091436    8.04559284 ... -14.58168216 -10.49236151\n",
      "   -9.78746579]\n",
      " [  0.           0.           0.         ...   0.           0.\n",
      "    0.        ]]\n",
      "Shape: (256, 256, 3)\n",
      "Red channel:\n",
      "[[0.91372549 0.79215686 0.80392157 ... 0.91372549 0.92156863 0.9372549 ]\n",
      " [0.90196078 0.79607843 0.80784314 ... 0.90980392 0.91764706 0.92156863]\n",
      " [0.90196078 0.78431373 0.78431373 ... 0.90980392 0.91372549 0.92156863]\n",
      " ...\n",
      " [0.18823529 0.31764706 0.32941176 ... 0.29411765 0.26666667 0.32941176]\n",
      " [0.25098039 0.60784314 0.45098039 ... 0.31764706 0.3254902  0.33333333]\n",
      " [0.         0.         0.         ... 0.         0.         0.        ]]\n",
      "Green channel:\n",
      "[[1.11666844e-15 8.50980392e-01 8.54901961e-01 ... 8.98039216e-01\n",
      "  8.98039216e-01 8.98039216e-01]\n",
      " [8.50980392e-01 8.50980392e-01 8.50980392e-01 ... 8.90196078e-01\n",
      "  8.90196078e-01 8.98039216e-01]\n",
      " [8.50980392e-01 8.50980392e-01 8.47058824e-01 ... 8.94117647e-01\n",
      "  8.94117647e-01 8.98039216e-01]\n",
      " ...\n",
      " [1.68627451e-01 2.27450980e-01 1.68627451e-01 ... 1.56862745e-01\n",
      "  1.33333333e-01 1.56862745e-01]\n",
      " [2.27450980e-01 6.07843137e-01 3.88235294e-01 ... 2.00000000e-01\n",
      "  1.76470588e-01 2.15686275e-01]\n",
      " [0.00000000e+00 0.00000000e+00 0.00000000e+00 ... 0.00000000e+00\n",
      "  0.00000000e+00 0.00000000e+00]]\n",
      "Blue channel:\n",
      "[[0.96470588 0.86666667 0.8627451  ... 0.89019608 0.89019608 0.88627451]\n",
      " [0.92941176 0.86666667 0.8627451  ... 0.89019608 0.88235294 0.89411765]\n",
      " [0.9254902  0.86666667 0.8627451  ... 0.89019608 0.89019608 0.88627451]\n",
      " ...\n",
      " [0.38039216 0.2745098  0.29803922 ... 0.28235294 0.28235294 0.31764706]\n",
      " [0.36862745 0.52941176 0.34901961 ... 0.32941176 0.29019608 0.31372549]\n",
      " [0.         0.         0.         ... 0.         0.         0.        ]]\n"
     ]
    }
   ],
   "source": [
    "# Transform RGB array to Lab array\n",
    "from skimage.color import rgb2lab, lab2rgb\n",
    "\n",
    "image_array_lab = rgb2lab(image_array)\n",
    "# Inspect the image array\n",
    "print(f\"Shape: {image_array_lab.shape}\")\n",
    "print(f\"L channel:\\n{image_array_lab[:, :, 0]}\")\n",
    "print(f\"a channel:\\n{image_array_lab[:, :, 1]}\")\n",
    "print(f\"b channel:\\n{image_array_lab[:, :, 2]}\")\n",
    "\n",
    "# Transform Lab array to RGB array\n",
    "image_array_rgb = lab2rgb(image_array_lab)\n",
    "\n",
    "# Inspect the image array\n",
    "print(f\"Shape: {image_array_rgb.shape}\")\n",
    "print(f\"Red channel:\\n{image_array_rgb[:, :, 0]}\")\n",
    "print(f\"Green channel:\\n{image_array_rgb[:, :, 1]}\")\n",
    "print(f\"Blue channel:\\n{image_array_rgb[:, :, 2]}\")\n",
    "\n",
    "# Show the image\n",
    "image = Image.fromarray((image_array_rgb * 255).astype(np.uint8))\n",
    "image.show()"
   ]
  },
  {
   "cell_type": "code",
   "execution_count": 7,
   "metadata": {},
   "outputs": [
    {
     "name": "stdout",
     "output_type": "stream",
     "text": [
      "Shape: (256, 256, 3)\n",
      "H channel:\n",
      "[[0.82452575 0.53508772 0.52222222 ... 0.05555556 0.04166667 0.03846154]\n",
      " [0.775      0.53703704 0.53571429 ... 0.         0.03703704 0.02380952]\n",
      " [0.78070175 0.53174603 0.53333333 ... 0.03333333 0.02777778 0.05555556]\n",
      " ...\n",
      " [0.68209877 0.91304348 0.86585366 ... 0.84761905 0.81578947 0.84469697]\n",
      " [0.69444444 0.16666667 0.06410256 ... 0.81818182 0.87280702 0.86111111]\n",
      " [0.         0.         0.         ... 0.         0.         0.        ]]\n",
      "S channel:\n",
      "[[1.         0.08597285 0.06818182 ... 0.02575107 0.03404255 0.05439331]\n",
      " [0.08438819 0.08144796 0.06363636 ... 0.02155172 0.03846154 0.02978723]\n",
      " [0.08050847 0.09502262 0.09090909 ... 0.02155172 0.02575107 0.03829787]\n",
      " ...\n",
      " [0.55670103 0.28395062 0.48809524 ... 0.46666667 0.52777778 0.52380952]\n",
      " [0.38297872 0.12903226 0.22608696 ... 0.39285714 0.45783133 0.35294118]\n",
      " [0.         0.         0.         ... 0.         0.         0.        ]]\n",
      "V channel:\n",
      "[[0.96470588 0.86666667 0.8627451  ... 0.91372549 0.92156863 0.9372549 ]\n",
      " [0.92941176 0.86666667 0.8627451  ... 0.90980392 0.91764706 0.92156863]\n",
      " [0.9254902  0.86666667 0.8627451  ... 0.90980392 0.91372549 0.92156863]\n",
      " ...\n",
      " [0.38039216 0.31764706 0.32941176 ... 0.29411765 0.28235294 0.32941176]\n",
      " [0.36862745 0.60784314 0.45098039 ... 0.32941176 0.3254902  0.33333333]\n",
      " [0.         0.         0.         ... 0.         0.         0.        ]]\n",
      "V channel after equalization:\n",
      "[[0.99984603 0.87612265 0.85257703 ... 0.98266764 0.9901124  0.99674378]\n",
      " [0.99421811 0.87612265 0.85257703 ... 0.97790126 0.98698628 0.9901124 ]\n",
      " [0.99229358 0.87612265 0.85257703 ... 0.97790126 0.98266764 0.9901124 ]\n",
      " ...\n",
      " [0.36518241 0.18742297 0.23653173 ... 0.07942246 0.03725562 0.23653173]\n",
      " [0.34530876 0.50544362 0.42128098 ... 0.23653173 0.22140503 0.25078233]\n",
      " [0.00390625 0.00390625 0.00390625 ... 0.00390625 0.00390625 0.00390625]]\n"
     ]
    }
   ],
   "source": [
    "# Transform RGB to HSV\n",
    "from skimage.color import rgb2hsv, hsv2rgb\n",
    "\n",
    "image_array_hsv = rgb2hsv(image_array)\n",
    "# Inspect the image array\n",
    "print(f\"Shape: {image_array_hsv.shape}\")\n",
    "print(f\"H channel:\\n{image_array_hsv[:, :, 0]}\")\n",
    "print(f\"S channel:\\n{image_array_hsv[:, :, 1]}\")\n",
    "print(f\"V channel:\\n{image_array_hsv[:, :, 2]}\")\n",
    "\n",
    "# Histogram equalization on the V channel\n",
    "from skimage.exposure import equalize_hist\n",
    "\n",
    "image_array_hsv[:, :, 2] = equalize_hist(image_array_hsv[:, :, 2])\n",
    "print(f\"V channel after equalization:\\n{image_array_hsv[:, :, 2]}\")\n",
    "\n",
    "# Transform HSV to RGB\n",
    "image_array_rgb = hsv2rgb(image_array_hsv)\n",
    "\n",
    "# Show the image\n",
    "image = Image.fromarray((image_array_rgb * 255).astype(np.uint8))\n",
    "image.show()"
   ]
  },
  {
   "cell_type": "markdown",
   "metadata": {},
   "source": [
    "# Compute Power"
   ]
  },
  {
   "cell_type": "code",
   "execution_count": 8,
   "metadata": {},
   "outputs": [],
   "source": [
    "# Coefficient defines in the slides:\n",
    "gamma = 0.7755\n",
    "w_0 = 1.48169521 * 10**(-6)\n",
    "w_r = 2.13636845 * 10**(-7)\n",
    "w_g = 1.77746705 * 10**(-7)\n",
    "w_b = 2.14348309 * 10**(-7)\n",
    "\n",
    "# First compute the power consumption for each pixel\n",
    "def compute_power_pixel(r, g, b):\n",
    "    return w_r * r**gamma + w_g * g**gamma + w_b * b**gamma # From the slides\n",
    "    \n",
    "    \n",
    "def compute_power(image_array_rgb):\n",
    "    # Receive an image as input and return the power consumption based on the formula on the slides\n",
    "    \n",
    "    # Works on the R,G,B space of the image\n",
    "    # The image is saved in the variable image_array\n",
    "    \n",
    "    # Split the image into the three channels    \n",
    "    red_channel = image_array_rgb[:, :, 0]\n",
    "    green_channel = image_array_rgb[:, :, 1]\n",
    "    blue_channel = image_array_rgb[:, :, 2]\n",
    "    \n",
    "    \n",
    "    \n",
    "    # Apply the function to all pixels\n",
    "    sum_pixel_power = 0\n",
    "    height, width = red_channel.shape   # Get the dimensions of the image, assuming all channels have the same dimensions\n",
    "    for i in range(height):\n",
    "        for j in range(width):\n",
    "            power_per_pixel = compute_power_pixel(red_channel[i, j], green_channel[i, j], blue_channel[i, j])\n",
    "            sum_pixel_power += power_per_pixel\n",
    "    \n",
    "    power_image = w_0 + sum_pixel_power\n",
    "    print('Power consumption of the image: ', power_image)\n",
    "    return power_image\n",
    "\n",
    "# compute_power(image_array_rgb)"
   ]
  },
  {
   "cell_type": "markdown",
   "metadata": {},
   "source": [
    "### Apply trasformation to all the images"
   ]
  },
  {
   "cell_type": "markdown",
   "metadata": {},
   "source": [
    "#### Darker image only"
   ]
  },
  {
   "cell_type": "code",
   "execution_count": 58,
   "metadata": {},
   "outputs": [
    {
     "name": "stdout",
     "output_type": "stream",
     "text": [
      "Power consumption of the image:  0.885606308986581\n",
      "Power consumption of the image:  0.8093931366191035\n",
      "Power consumption of the image:  0.5563255685029074\n",
      "Power consumption of the image:  0.503096583435899\n",
      "Power consumption of the image:  1.8298231909002254\n",
      "Power consumption of the image:  1.6813933152966476\n",
      "Power consumption of the image:  1.5853308824426224\n",
      "Power consumption of the image:  1.45587979572389\n",
      "Power consumption of the image:  1.8194199267116073\n",
      "Power consumption of the image:  1.6718544561884638\n",
      "Power consumption of the image:  1.7291402637841502\n",
      "Power consumption of the image:  1.5884718223228302\n",
      "Power consumption of the image:  2.080625636068071\n",
      "Power consumption of the image:  1.9125834675679354\n",
      "Power consumption of the image:  1.9826469295054565\n",
      "Power consumption of the image:  1.8222774065726717\n",
      "Power consumption of the image:  5.8809689947281685\n",
      "Power consumption of the image:  5.3992602864828125\n",
      "Power consumption of the image:  6.640676209770246\n",
      "Power consumption of the image:  6.099773886893996\n",
      "Power consumption of the image:  8.932063468174599\n",
      "Power consumption of the image:  8.213609503234368\n",
      "Power consumption of the image:  6.440155265761345\n",
      "Power consumption of the image:  5.91425719550177\n",
      "Power consumption of the image:  5.85501105290811\n",
      "Power consumption of the image:  5.375119329392324\n",
      "Power consumption of the image:  7.8003355041802145\n",
      "Power consumption of the image:  7.16953639858975\n"
     ]
    }
   ],
   "source": [
    "import os\n",
    "\n",
    "# Directory containing the images\n",
    "image_dir = \"misc\"\n",
    "image_dir_optimized = \"darker\"\n",
    "output_file = \"image_power_consumption_dark.txt\"\n",
    "\n",
    "# Open the output file\n",
    "with open(output_file, \"w\") as file:\n",
    "    file.write(\"Image,Original Power,Optimized Power,Power Saved (%)\\n\")\n",
    "    \n",
    "    # Iterate over all images in the directory\n",
    "    for image_name in os.listdir(image_dir):\n",
    "        if image_name.endswith(\".tiff\"):    # Only process TIFF images\n",
    "            # Read the image\n",
    "            image_path = os.path.join(image_dir, image_name)\n",
    "            image = Image.open(image_path)\n",
    "            image_array = np.array(image)\n",
    "            # image.show()\n",
    "            \n",
    "            \n",
    "            # Compute the power consumption of the original image\n",
    "            power_image_orig = compute_power(image_array)\n",
    "             \n",
    "            # Apply the transformation to make the image slightly darker\n",
    "            image_array_optimized = (image_array * 0.9).astype(np.uint8)\n",
    "            \n",
    "            # Show the optimized image\n",
    "            image_optimized = Image.fromarray(image_array_optimized)\n",
    "            # image_optimized.show()\n",
    "            \n",
    "            # Save the optimized image to disk\n",
    "            optimized_image_path = os.path.join(image_dir,image_dir_optimized, f\"optimized_{image_name}\")\n",
    "            image_optimized.save(optimized_image_path)\n",
    "            \n",
    "            # Compute the power consumption of the optimized image\n",
    "            power_image_optimized = compute_power(image_array_optimized)\n",
    "            \n",
    "            # Compute the power saved in percentage\n",
    "            power_saved_percentage = ((power_image_orig - power_image_optimized) / power_image_orig) * 100\n",
    "            \n",
    "            # Write the results to the file\n",
    "            file.write(f\"{image_name},{power_image_orig},{power_image_optimized},{power_saved_percentage}\\n\")\n"
   ]
  },
  {
   "cell_type": "markdown",
   "metadata": {},
   "source": [
    "##### Analysis of the results"
   ]
  },
  {
   "cell_type": "code",
   "execution_count": null,
   "metadata": {},
   "outputs": [
    {
     "data": {
      "text/markdown": [
       "| Image       |   Original Power |   Optimized Power |   Power Saved (%) |\n",
       "|:------------|-----------------:|------------------:|------------------:|\n",
       "| 4.1.01.tiff |         0.885606 |          0.809393 |           8.60576 |\n",
       "| 4.1.02.tiff |         0.556326 |          0.503097 |           9.56796 |\n",
       "| 4.1.03.tiff |         1.82982  |          1.68139  |           8.11171 |\n",
       "| 4.1.04.tiff |         1.58533  |          1.45588  |           8.16556 |\n",
       "| 4.1.05.tiff |         1.81942  |          1.67185  |           8.11058 |\n",
       "| 4.1.06.tiff |         1.72914  |          1.58847  |           8.13517 |\n",
       "| 4.1.07.tiff |         2.08063  |          1.91258  |           8.07652 |\n",
       "| 4.1.08.tiff |         1.98265  |          1.82228  |           8.08866 |\n",
       "| 4.2.01.tiff |         5.88097  |          5.39926  |           8.19098 |\n",
       "| 4.2.03.tiff |         6.64068  |          6.09977  |           8.14529 |\n",
       "| 4.2.05.tiff |         8.93206  |          8.21361  |           8.04354 |\n",
       "| 4.2.06.tiff |         6.44016  |          5.91426  |           8.16592 |\n",
       "| 4.2.07.tiff |         5.85501  |          5.37512  |           8.19626 |\n",
       "| house.tiff  |         7.80034  |          7.16954  |           8.08682 |"
      ],
      "text/plain": [
       "<IPython.core.display.Markdown object>"
      ]
     },
     "metadata": {},
     "output_type": "display_data"
    }
   ],
   "source": [
    "import pandas as pd\n",
    "from IPython.display import Markdown, display\n",
    "\n",
    "# Read the file into a pandas dataframe\n",
    "df_results = pd.read_csv(\"image_power_consumption_dark.txt\")\n",
    "\n",
    "# Display the dataframe as a markdown table for better visualization\n",
    "def display_markdown_table(df):\n",
    "    table = df.to_markdown(index=False)\n",
    "    display(Markdown(table))\n",
    "\n",
    "display_markdown_table(df_results)"
   ]
  },
  {
   "cell_type": "markdown",
   "metadata": {},
   "source": [
    "The results show the power consumption of various images before and after optimization, along with the percentage of power saved. Here are some key points from the analysis:\n",
    "\n",
    "1. **Consistent Power Savings**: The percentage of power saved across all images is relatively consistent, ranging from approximately 8.04% to 9.57%. This indicates that the optimization technique applied is uniformly effective across different images.\n",
    "\n",
    "2. **Highest and Lowest Savings**:\n",
    "\n",
    "   - The highest power saving is observed in `4.1.02.tiff` with 9.57%.\n",
    "   - The lowest power saving is observed in `4.2.05.tiff` with 8.04%.\n",
    "\n",
    "3. **Power Consumption**:\n",
    "\n",
    "   - The image with the highest original power consumption is `4.2.05.tiff` at 8.93 units.\n",
    "   - The image with the lowest original power consumption is `4.1.02.tiff` at 0.56 units.\n",
    "\n",
    "4. **Optimized Power**:\n",
    "\n",
    "   - The optimized power consumption is lower for all images, confirming the effectiveness of the optimization process.\n",
    "\n",
    "5. **Overall Effectiveness**: The optimization process consistently reduces power consumption by around 8-9%, which can be significant in applications where power efficiency is critical.\n",
    "\n",
    "These results suggest that the optimization technique is robust and can be applied to a variety of images to achieve significant power savings.\n",
    "Images can be further optimized by acting on the blue channel, as we will see in the next section"
   ]
  },
  {
   "cell_type": "markdown",
   "metadata": {},
   "source": [
    "For OLED:\n",
    "- Dynamic quality setting \n",
    "- color selection/transformation\n",
    "\n",
    "We can act only on the color"
   ]
  },
  {
   "cell_type": "code",
   "execution_count": null,
   "metadata": {},
   "outputs": [
    {
     "name": "stdout",
     "output_type": "stream",
     "text": [
      "Power consumption of the image:  0.885606308986581\n",
      "Power consumption of the image:  0.8765509205793689\n",
      "Power consumption of the image:  0.5563255685029074\n",
      "Power consumption of the image:  0.5470541138896168\n",
      "Power consumption of the image:  1.8298231909002254\n",
      "Power consumption of the image:  1.7305873407458925\n",
      "Power consumption of the image:  1.5853308824426224\n",
      "Power consumption of the image:  1.5131559238006749\n",
      "Power consumption of the image:  1.8194199267116073\n",
      "Power consumption of the image:  1.7542865944269452\n",
      "Power consumption of the image:  1.7291402637841502\n",
      "Power consumption of the image:  1.6591370841628545\n",
      "Power consumption of the image:  2.080625636068071\n",
      "Power consumption of the image:  2.0792247872047604\n",
      "Power consumption of the image:  1.9826469295054565\n",
      "Power consumption of the image:  1.9811868573302445\n",
      "Power consumption of the image:  5.8809689947281685\n",
      "Power consumption of the image:  6.016723660431499\n",
      "Power consumption of the image:  6.640676209770246\n",
      "Power consumption of the image:  6.476721923973191\n",
      "Power consumption of the image:  8.932063468174599\n",
      "Power consumption of the image:  8.614469137993783\n",
      "Power consumption of the image:  6.440155265761345\n",
      "Power consumption of the image:  6.3185730092201275\n",
      "Power consumption of the image:  5.85501105290811\n",
      "Power consumption of the image:  5.848612745242846\n",
      "Power consumption of the image:  7.8003355041802145\n",
      "Power consumption of the image:  7.75866096522607\n"
     ]
    }
   ],
   "source": [
    "from skimage.color import rgb2yuv, yuv2rgb\n",
    "from PIL import Image\n",
    "import numpy as np\n",
    "import os\n",
    "\n",
    "# Directory containing the images\n",
    "image_dir = \"misc\"\n",
    "image_dir_optimized = \"darker_enhanced\"\n",
    "output_file = \"image_power_consumption_dark_enhanced.txt\"\n",
    "\n",
    "brightness_factor = 0.5\n",
    "\n",
    "# Open the output file\n",
    "with open(output_file, \"w\") as file:\n",
    "    file.write(\"Image,Original Power,Optimized Power,Power Saved (%)\\n\")\n",
    "    \n",
    "    # Iterate over all images in the directory\n",
    "    for image_name in os.listdir(image_dir):\n",
    "        if image_name.endswith(\".tiff\"):    # Only process TIFF images\n",
    "            # Read the image\n",
    "            image_path = os.path.join(image_dir, image_name)\n",
    "            image = Image.open(image_path)\n",
    "            image_array = np.array(image)\n",
    "            \n",
    "            # Compute the power consumption of the original image\n",
    "            power_image_orig = compute_power(image_array)\n",
    "             \n",
    "            # Convert the image from RGB to YUV\n",
    "            image_array_yuv = rgb2yuv(image_array)\n",
    "\n",
    "            # Identify pixels with higher power impact (e.g., blue pixels)\n",
    "            blue_pixels = (image_array[:, :, 2] > image_array[:, :, 0]) & (image_array[:, :, 2] > image_array[:, :, 1])\n",
    "            non_blue_pixels = ~blue_pixels\n",
    "\n",
    "            # Reduce the luminance of blue pixels\n",
    "            image_array_yuv[blue_pixels, 0] *= 0.9\n",
    "\n",
    "            # # Boost the luminance of non-blue pixels\n",
    "            # image_array_yuv[non_blue_pixels, 0] = np.clip(image_array_yuv[non_blue_pixels, 0] / brightness_factor, 0, 1)\n",
    "            \n",
    "\n",
    "            # Convert the modified YUV image back to RGB\n",
    "            image_array_optimized = (yuv2rgb(image_array_yuv) * 255).astype(np.uint8)            \n",
    "\n",
    "            # Show the optimized image\n",
    "            image_optimized = Image.fromarray(image_array_optimized)\n",
    "            # image_optimized.show()\n",
    "\n",
    "            # Save the optimized image to disk\n",
    "            optimized_image_path = os.path.join(image_dir, image_dir_optimized, f\"optimized_{image_name}\")\n",
    "            image_optimized.save(optimized_image_path)\n",
    "\n",
    "            # Compute the power consumption of the optimized image\n",
    "            power_image_optimized = compute_power(image_array_optimized)\n",
    "\n",
    "            # Compute the power saved in percentage\n",
    "            power_saved_percentage = ((power_image_orig - power_image_optimized) / power_image_orig) * 100\n",
    "            \n",
    "            # Write the results to the file\n",
    "            file.write(f\"{image_name},{power_image_orig},{power_image_optimized},{power_saved_percentage}\\n\")"
   ]
  },
  {
   "cell_type": "markdown",
   "metadata": {},
   "source": [
    "##### Analysis of the results"
   ]
  },
  {
   "cell_type": "markdown",
   "metadata": {},
   "source": [
    "The technique used to enhacned the images is not working very well. The saved power is little in most cases, and in the case of image `4.2.01.tiff` the energy used is even higher than the original image.  "
   ]
  },
  {
   "cell_type": "markdown",
   "metadata": {},
   "source": [
    "#### Darker image and less blue"
   ]
  },
  {
   "cell_type": "code",
   "execution_count": 57,
   "metadata": {},
   "outputs": [
    {
     "name": "stdout",
     "output_type": "stream",
     "text": [
      "Power consumption of the image:  0.885606308986581\n",
      "Power consumption of the image:  0.788168594341055\n",
      "Power consumption of the image:  0.5563255685029074\n",
      "Power consumption of the image:  0.48793118528129703\n",
      "Power consumption of the image:  1.8298231909002254\n",
      "Power consumption of the image:  1.6319107763588685\n",
      "Power consumption of the image:  1.5853308824426224\n",
      "Power consumption of the image:  1.4116455338209875\n",
      "Power consumption of the image:  1.8194199267116073\n",
      "Power consumption of the image:  1.6239015779376171\n",
      "Power consumption of the image:  1.7291402637841502\n",
      "Power consumption of the image:  1.5400853001873949\n",
      "Power consumption of the image:  2.080625636068071\n",
      "Power consumption of the image:  1.8638629748709739\n",
      "Power consumption of the image:  1.9826469295054565\n",
      "Power consumption of the image:  1.777314530916956\n",
      "Power consumption of the image:  5.8809689947281685\n",
      "Power consumption of the image:  5.273096538282283\n",
      "Power consumption of the image:  6.640676209770246\n",
      "Power consumption of the image:  5.938083843660255\n",
      "Power consumption of the image:  8.932063468174599\n",
      "Power consumption of the image:  7.970849847093403\n",
      "Power consumption of the image:  6.440155265761345\n",
      "Power consumption of the image:  5.753488745825827\n",
      "Power consumption of the image:  5.85501105290811\n",
      "Power consumption of the image:  5.266759628107322\n",
      "Power consumption of the image:  7.8003355041802145\n",
      "Power consumption of the image:  6.977068969786553\n"
     ]
    }
   ],
   "source": [
    "import os\n",
    "\n",
    "# Directory containing the images\n",
    "image_dir = \"misc\"\n",
    "image_dir_optimized = \"darker_blue\"\n",
    "output_file = \"image_power_consumption_dark_blue.txt\"\n",
    "\n",
    "# Open the output file\n",
    "with open(output_file, \"w\") as file:\n",
    "    file.write(\"Image,Original Power,Optimized Power,Power Saved (%)\\n\")\n",
    "    \n",
    "    # Iterate over all images in the directory\n",
    "    for image_name in os.listdir(image_dir):\n",
    "        if image_name.endswith(\".tiff\"):    # Only process TIFF images\n",
    "            # Read the image\n",
    "            image_path = os.path.join(image_dir, image_name)\n",
    "            image = Image.open(image_path)\n",
    "            image_array = np.array(image)\n",
    "            # image.show()\n",
    "            \n",
    "            \n",
    "            # Compute the power consumption of the original image\n",
    "            power_image_orig = compute_power(image_array)\n",
    "             \n",
    "            # Apply the transformation to make the image slightly darker\n",
    "            image_array_optimized = (image_array * 0.9).astype(np.uint8)\n",
    "            # Tweak the blue channel\n",
    "            image_array_optimized[:, :, 2] = (image_array_optimized[:, :, 2] * 0.9).astype(np.uint8)\n",
    "            \n",
    "            # Show the optimized image\n",
    "            image_optimized = Image.fromarray(image_array_optimized)\n",
    "            # image_optimized.show()\n",
    "            # Save the optimized image to disk\n",
    "            optimized_image_path = os.path.join(image_dir,image_dir_optimized, f\"optimized_{image_name}\")\n",
    "            image_optimized.save(optimized_image_path)\n",
    "            \n",
    "            # Compute the power consumption of the optimized image\n",
    "            power_image_optimized = compute_power(image_array_optimized)\n",
    "            \n",
    "            # Compute the power saved in percentage\n",
    "            power_saved_percentage = ((power_image_orig - power_image_optimized) / power_image_orig) * 100\n",
    "            \n",
    "            # Write the results to the file\n",
    "            file.write(f\"{image_name},{power_image_orig},{power_image_optimized},{power_saved_percentage}\\n\")\n"
   ]
  },
  {
   "cell_type": "code",
   "execution_count": 13,
   "metadata": {},
   "outputs": [
    {
     "data": {
      "text/markdown": [
       "| Image       |   Original Power |   Optimized Power |   Power Saved (%) |\n",
       "|:------------|-----------------:|------------------:|------------------:|\n",
       "| 4.1.01.tiff |         0.885606 |          0.788169 |           11.0024 |\n",
       "| 4.1.02.tiff |         0.556326 |          0.487931 |           12.2939 |\n",
       "| 4.1.03.tiff |         1.82982  |          1.63191  |           10.8159 |\n",
       "| 4.1.04.tiff |         1.58533  |          1.41165  |           10.9558 |\n",
       "| 4.1.05.tiff |         1.81942  |          1.6239   |           10.7462 |\n",
       "| 4.1.06.tiff |         1.72914  |          1.54009  |           10.9335 |\n",
       "| 4.1.07.tiff |         2.08063  |          1.86386  |           10.4181 |\n",
       "| 4.1.08.tiff |         1.98265  |          1.77731  |           10.3565 |\n",
       "| 4.2.01.tiff |         5.88097  |          5.2731   |           10.3363 |\n",
       "| 4.2.03.tiff |         6.64068  |          5.93808  |           10.5801 |\n",
       "| 4.2.05.tiff |         8.93206  |          7.97085  |           10.7614 |\n",
       "| 4.2.06.tiff |         6.44016  |          5.75349  |           10.6623 |\n",
       "| 4.2.07.tiff |         5.85501  |          5.26676  |           10.047  |\n",
       "| house.tiff  |         7.80034  |          6.97707  |           10.5542 |"
      ],
      "text/plain": [
       "<IPython.core.display.Markdown object>"
      ]
     },
     "metadata": {},
     "output_type": "display_data"
    }
   ],
   "source": [
    "# Already imported:\n",
    "# import pandas as pd\n",
    "# from IPython.display import Markdown, display\n",
    "\n",
    "\n",
    "# Read the file into a pandas dataframe\n",
    "df_results = pd.read_csv(\"image_power_consumption_dark_blue.txt\")\n",
    "\n",
    "# Display the dataframe as a markdown table for better visualization\n",
    "def display_markdown_table(df):\n",
    "    table = df.to_markdown(index=False)\n",
    "    display(Markdown(table))\n",
    "\n",
    "display_markdown_table(df_results)"
   ]
  },
  {
   "cell_type": "markdown",
   "metadata": {},
   "source": [
    "##### Analysis of the results"
   ]
  },
  {
   "cell_type": "markdown",
   "metadata": {},
   "source": [
    "The higher power saved in percentage is obtained with the image `4.1.02.tiff`: visually speaking, the change made to the blue channel does not create artifacts, and the image retains more or less the same quality saving 12.2% of energy."
   ]
  },
  {
   "cell_type": "code",
   "execution_count": null,
   "metadata": {},
   "outputs": [],
   "source": []
  },
  {
   "cell_type": "markdown",
   "metadata": {},
   "source": [
    "# Compute Distortion"
   ]
  },
  {
   "cell_type": "code",
   "execution_count": 19,
   "metadata": {},
   "outputs": [
    {
     "name": "stdout",
     "output_type": "stream",
     "text": [
      "[TEST] Distortion between the original and itself must be zero, result:  0.0\n",
      "Distortion between the original and the darker image:  28.350745442646634\n",
      "Distortion between the original and the red image:  30.18502996870146\n"
     ]
    }
   ],
   "source": [
    "import math\n",
    "\n",
    "# Convert the image from RGB to Lab space:\n",
    "image_array_lab = rgb2lab(image_array)\n",
    "\n",
    "def compute_distortion(original_image, modified_image):\n",
    "    # To compute the distortion we will work on the L,a,b space of the image\n",
    "    \n",
    "    # Split the images into the three channels\n",
    "    L_channel_original = original_image[:, :, 0]\n",
    "    a_channel_original = original_image[:, :, 1]\n",
    "    b_channel_original = original_image[:, :, 2]\n",
    "    \n",
    "    L_channel_modified = modified_image[:, :, 0]\n",
    "    a_channel_modified = modified_image[:, :, 1]\n",
    "    b_channel_modified = modified_image[:, :, 2]\n",
    "    \n",
    "    # Compute the euclidean distance between the two images:\n",
    "    sum_pixel_distortion = 0\n",
    "    for i in range(original_image.shape[0]):\n",
    "        for j in range(original_image.shape[1]):\n",
    "            # For each pixel compute the euclidean distance\n",
    "            L_diff = np.subtract(L_channel_original[i, j], L_channel_modified[i, j], dtype=np.float64)\n",
    "            a_diff = np.subtract(a_channel_original[i, j], a_channel_modified[i, j], dtype=np.float64)\n",
    "            b_diff = np.subtract(b_channel_original[i, j], b_channel_modified[i, j], dtype=np.float64)\n",
    "            sum_pixel_distortion += math.sqrt(math.pow(L_diff, 2) + math.pow(a_diff, 2) + math.pow(b_diff, 2))\n",
    "    \n",
    "    return sum_pixel_distortion\n",
    "\n",
    "def compute_percentage_distortion(distortion):\n",
    "    w = image_array.shape[0]\n",
    "    h = image_array.shape[1]\n",
    "    max_distortion = math.sqrt(math.pow(100, 2) + math.pow(255, 2) + math.pow(255, 2)) \n",
    "    return (distortion / (w * h * max_distortion)) * 100\n",
    "\n",
    "# Test the function\n",
    "print('[TEST] Distortion between the original and itself must be zero, result: ', compute_percentage_distortion(compute_distortion(image_array, image_array)))\n",
    "print('Distortion between the original and the darker image: ', compute_percentage_distortion(compute_distortion(image_array, image_array_v1)))\n",
    "print('Distortion between the original and the red image: ', compute_percentage_distortion(compute_distortion(image_array, image_array_v2)))\n",
    "\n"
   ]
  },
  {
   "cell_type": "code",
   "execution_count": null,
   "metadata": {},
   "outputs": [],
   "source": [
    "import os\n",
    "\n",
    "# Directory containing the images\n",
    "image_dir = \"misc\"\n",
    "output_file = \"image_distorsion\"\n",
    "optimized_image_dir = [\"darker\", \"darker_blue\", \"darker_enhanced\"]\n",
    "\n",
    "\n",
    "def open_image(image_path, image_name):\n",
    "    image = Image.open(os.path.join(image_dir, image_path, f\"optimized_{image_name}\"))\n",
    "    image_array = np.array(image)\n",
    "    return image_array\n",
    "\n",
    "\n",
    "def files_init():\n",
    "    for optimized_image_dir_name in optimized_image_dir:\n",
    "        output_file = f\"image_distorsion_{optimized_image_dir_name}.txt\"\n",
    "        with open(output_file, \"w\") as file:\n",
    "            file.write(\"Image,Optimized image,Distorsion,Distorsion (%)\\n\")\n",
    "\n",
    "\n",
    "# Iterate over all images in the directory\n",
    "files_init()    # Initialize the files\n",
    "\n",
    "for image_name in os.listdir(image_dir):\n",
    "    if image_name.endswith(\".tiff\") and not image_name.startswith(\"optimized\"):    # Only process TIFF original images   \n",
    "        # Read the image\n",
    "        image_path = os.path.join(image_dir, image_name)\n",
    "        image = Image.open(image_path)\n",
    "        image_array = np.array(image)\n",
    "        # image.show()\n",
    "        \n",
    "        for optimized_image_dir_name in optimized_image_dir:\n",
    "            # Read the optimized image\n",
    "            optimized_image_array = open_image(optimized_image_dir_name, image_name)\n",
    "            \n",
    "            # Compute the distortion between the original and the optimized image\n",
    "            distortion = compute_distortion(image_array, optimized_image_array)\n",
    "            distortion_percentage = compute_percentage_distortion(distortion)\n",
    "            with open(f\"image_distorsion_{optimized_image_dir_name}.txt\", \"a\") as file:\n",
    "                # Write the results to the file\n",
    "                file.write(f\"{image_name},{'optimized_'+image_name},{distortion},{distortion_percentage}\\n\")\n",
    "            \n",
    "            \n",
    "        \n",
    "\n"
   ]
  },
  {
   "cell_type": "markdown",
   "metadata": {},
   "source": [
    "##### Analysis of the results"
   ]
  },
  {
   "cell_type": "markdown",
   "metadata": {},
   "source": [
    "The results stored in `image_distorsion_dark_blue.txt` provide a detailed analysis of the distortion between the original images and their optimized counterparts.\n",
    "\n",
    "1. **Distortion Values**:\n",
    "   - The distortion values vary significantly across different images, with some images experiencing minimal distortion and others experiencing more significant changes.  \n",
    "   For instance, `4.1.02.tiff` has a distortion percentage of approximately 2.32%, while `4.2.05.tiff` has a distortion percentage of approximately 12.08%. This suggests that the optimization process is more effective in preserving the quality of some images compared to others.\n",
    "\n",
    "1. **Overall Trends**:\n",
    "   - The data shows that the optimization process generally introduces some level of distortion, but the extent of this distortion is image-dependent.\n",
    "   - Images with higher original power consumption tend to have higher distortion values, indicating a trade-off between power optimization and image quality.\n",
    "\n",
    "2. **Specific Observations**:\n",
    "   - `4.1.02.tiff` has one of the lowest distortion percentages (2.32%), suggesting that the optimization process is highly effective for this image with minimal quality loss.\n",
    "   - `4.2.05.tiff` has the highest distortion percentage (12.08%), indicating that the optimization process significantly alters this image.\n",
    "\n",
    "In conclusion, while the optimization process effectively reduces power consumption, it introduces varying levels of distortion across different images. The results suggest a need for a balanced approach to optimize power consumption while minimizing image quality loss. Further analysis could focus on understanding the factors contributing to higher distortion in certain images and refining the optimization process to achieve better overall results."
   ]
  },
  {
   "cell_type": "markdown",
   "metadata": {},
   "source": []
  },
  {
   "cell_type": "markdown",
   "metadata": {},
   "source": [
    "# DVS"
   ]
  },
  {
   "cell_type": "code",
   "execution_count": null,
   "metadata": {},
   "outputs": [],
   "source": [
    "def compute_pixel_current():\n",
    "    raise NotImplementedError"
   ]
  },
  {
   "cell_type": "code",
   "execution_count": null,
   "metadata": {},
   "outputs": [],
   "source": [
    "def compute_panel_power():\n",
    "    raise NotImplementedError"
   ]
  },
  {
   "cell_type": "code",
   "execution_count": 12,
   "metadata": {},
   "outputs": [],
   "source": [
    "from typing import Tuple\n",
    "\n",
    "def displayed_image(\n",
    "        i_cell: np.ndarray,\n",
    "        vdd: float,\n",
    "        p1: float = 4.251e-5,\n",
    "        p2: float = -3.029e-4,\n",
    "        p3: float = 3.024e-5,\n",
    "        orig_vdd: float = 15,\n",
    "        ) -> Tuple[np.ndarray, np.ndarray]:\n",
    "    \"\"\"\n",
    "    Display an image on the OLED display taking into account the effect of DVS.\n",
    "\n",
    "    :param i_cell: An array of the currents drawn by each pixel of the display.\n",
    "    :param vdd: The new voltage of the display.\n",
    "    \"\"\"\n",
    "    i_cell_max = (p1 * vdd * 1) + (p2 * 1) + p3\n",
    "    image_rgb_max = (i_cell_max - p3) / (p1 * orig_vdd + p2) * 255\n",
    "    out = np.round((i_cell - p3) / (p1 * orig_vdd + p2) * 255)\n",
    "    original_image = out.copy()\n",
    "\n",
    "    # Clip the values exceeding `i_cell_max` to `image_rgb_max`\n",
    "    out[i_cell > i_cell_max] = image_rgb_max\n",
    "\n",
    "    return original_image.astype(np.uint8), out.astype(np.uint8)"
   ]
  },
  {
   "cell_type": "code",
   "execution_count": null,
   "metadata": {},
   "outputs": [
    {
     "name": "stdout",
     "output_type": "stream",
     "text": [
      "Shape: (176, 220, 3)\n",
      "Red channel:\n",
      "[[2.46842941e-04 2.24526275e-04 2.03522353e-04 ... 9.45645098e-05\n",
      "  9.45645098e-05 9.45645098e-05]\n",
      " [2.46842941e-04 2.24526275e-04 2.03522353e-04 ... 9.45645098e-05\n",
      "  9.45645098e-05 9.45645098e-05]\n",
      " [2.46842941e-04 2.24526275e-04 2.03522353e-04 ... 9.45645098e-05\n",
      "  9.45645098e-05 9.45645098e-05]\n",
      " ...\n",
      " [2.88850784e-04 2.78348824e-04 2.67846863e-04 ... 3.32171373e-04\n",
      "  3.21669412e-04 3.21669412e-04]\n",
      " [2.88850784e-04 2.78348824e-04 2.67846863e-04 ... 3.32171373e-04\n",
      "  3.32171373e-04 3.21669412e-04]\n",
      " [2.88850784e-04 2.78348824e-04 2.67846863e-04 ... 3.32171373e-04\n",
      "  3.32171373e-04 3.11167451e-04]]\n",
      "Green channel:\n",
      "[[1.41823333e-04 1.20819412e-04 1.10317451e-04 ... 7.22478431e-05\n",
      "  6.69968627e-05 6.69968627e-05]\n",
      " [1.36572353e-04 1.26070392e-04 1.10317451e-04 ... 7.22478431e-05\n",
      "  6.69968627e-05 6.69968627e-05]\n",
      " [1.31321373e-04 1.20819412e-04 1.10317451e-04 ... 7.22478431e-05\n",
      "  6.69968627e-05 6.69968627e-05]\n",
      " ...\n",
      " [1.73329216e-04 1.62827255e-04 1.57576275e-04 ... 2.42904706e-04\n",
      "  2.37653725e-04 2.32402745e-04]\n",
      " [1.78580196e-04 1.68078235e-04 1.57576275e-04 ... 2.42904706e-04\n",
      "  2.37653725e-04 2.32402745e-04]\n",
      " [1.78580196e-04 1.68078235e-04 1.52325294e-04 ... 2.42904706e-04\n",
      "  2.32402745e-04 2.11398824e-04]]\n",
      "Blue channel:\n",
      "[[1.06379216e-04 9.45645098e-05 8.40625490e-05 ... 7.35605882e-05\n",
      "  7.35605882e-05 7.35605882e-05]\n",
      " [9.45645098e-05 9.45645098e-05 9.45645098e-05 ... 7.35605882e-05\n",
      "  7.35605882e-05 7.35605882e-05]\n",
      " [9.45645098e-05 9.45645098e-05 9.45645098e-05 ... 7.35605882e-05\n",
      "  7.35605882e-05 7.35605882e-05]\n",
      " ...\n",
      " [1.27383137e-04 1.16881176e-04 1.16881176e-04 ... 1.81205686e-04\n",
      "  1.70703725e-04 1.70703725e-04]\n",
      " [1.27383137e-04 1.27383137e-04 1.16881176e-04 ... 1.81205686e-04\n",
      "  1.70703725e-04 1.70703725e-04]\n",
      " [1.27383137e-04 1.27383137e-04 1.16881176e-04 ... 1.70703725e-04\n",
      "  1.70703725e-04 1.48387059e-04]]\n"
     ]
    }
   ],
   "source": [
    "from scipy.io import loadmat\n",
    "\n",
    "# Load the .mat file\n",
    "mat_data = loadmat('sample_cell_current.mat')[\"I_cell_sample\"]\n",
    "\n",
    "# Inspect the loaded data\n",
    "print(f\"Shape: {mat_data.shape}\")\n",
    "print(f\"Red channel:\\n{mat_data[:, :, 0]}\")\n",
    "print(f\"Green channel:\\n{mat_data[:, :, 1]}\")\n",
    "print(f\"Blue channel:\\n{mat_data[:, :, 2]}\")\n",
    "\n",
    "image_array_orig, image_array_w_dvs = displayed_image(mat_data, 10)\n",
    "image_orig = Image.fromarray(image_array_orig)\n",
    "image_orig.show()\n",
    "image_w_dvs = Image.fromarray(image_array_w_dvs)\n",
    "image_w_dvs.show()\n"
   ]
  }
 ],
 "metadata": {
  "kernelspec": {
   "display_name": "Python 3",
   "language": "python",
   "name": "python3"
  },
  "language_info": {
   "codemirror_mode": {
    "name": "ipython",
    "version": 3
   },
   "file_extension": ".py",
   "mimetype": "text/x-python",
   "name": "python",
   "nbconvert_exporter": "python",
   "pygments_lexer": "ipython3",
   "version": "3.9.13"
  }
 },
 "nbformat": 4,
 "nbformat_minor": 2
}
